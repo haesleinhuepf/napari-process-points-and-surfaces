{
 "cells": [
  {
   "cell_type": "code",
   "execution_count": 1,
   "metadata": {
    "collapsed": true
   },
   "outputs": [],
   "source": [
    "import napari_process_points_and_surfaces as nppas"
   ]
  },
  {
   "cell_type": "code",
   "execution_count": 6,
   "outputs": [
    {
     "data": {
      "text/plain": "['Curvature',\n 'ImageData',\n 'LabelsData',\n 'PointsData',\n 'Quality',\n 'SurfaceAnnotationWidget',\n 'SurfaceData',\n '__builtins__',\n '__cached__',\n '__common_alias__',\n '__doc__',\n '__file__',\n '__loader__',\n '__name__',\n '__package__',\n '__path__',\n '__spec__',\n '__version__',\n '_knot_mesh',\n '_quantification',\n '_standford_bunny',\n '_surface_annotation_widget',\n '_utils',\n '_vedo',\n '_vedo_ellipsoid',\n '_vedo_ellipsoid_layerdatatuple',\n '_vedo_stanford_bunny',\n '_vedo_stanford_bunny_layerdatatuple',\n 'add_curvature_scalars',\n 'add_quality',\n 'add_spherefitted_curvature',\n 'all_labels_to_surface',\n 'convex_hull',\n 'example_data_knot',\n 'example_data_standford_bunny',\n 'example_data_vedo_ellipsoid',\n 'fill_holes',\n 'filter_smooth_laplacian',\n 'filter_smooth_simple',\n 'filter_smooth_taubin',\n 'isotropic_scale_surface',\n 'label_to_surface',\n 'labels_to_centroids',\n 'largest_label_to_surface',\n 'napari',\n 'napari_experimental_provide_dock_widget',\n 'napari_experimental_provide_function',\n 'napari_hook_implementation',\n 'napari_provide_sample_data',\n 'np',\n 'points_to_convex_hull_surface',\n 'points_to_labels',\n 'register_action',\n 'register_function',\n 'sample_points_poisson_disk',\n 'sample_points_uniformly',\n 'simplify_quadric_decimation',\n 'simplify_vertex_clustering',\n 'subdivide_loop',\n 'surface_from_point_cloud_alpha_shape',\n 'surface_from_point_cloud_ball_pivoting',\n 'surface_quality_table',\n 'surface_quality_to_properties',\n 'surface_to_binary_volume',\n 'time_slicer',\n 'to_mesh',\n 'to_napari_points_data',\n 'to_napari_surface_data',\n 'to_numpy',\n 'to_point_cloud',\n 'to_surface',\n 'to_vector_d',\n 'to_vector_double',\n 'to_vector_i',\n 'to_vedo_mesh',\n 'to_vedo_points',\n 'vedo_convex_hull',\n 'vedo_fill_holes',\n 'vedo_points_to_convex_hull_surface',\n 'vedo_remove_duplicate_vertices',\n 'vedo_sample_points_from_surface',\n 'vedo_smooth_mesh',\n 'vedo_subdivide_adaptive',\n 'vedo_subdivide_butterfly',\n 'vedo_subdivide_linear',\n 'vedo_subdivide_loop',\n 'vedo_subsample_points',\n 'voxel_down_sample',\n 'warnings']"
     },
     "execution_count": 6,
     "metadata": {},
     "output_type": "execute_result"
    }
   ],
   "source": [
    "dir(nppas)"
   ],
   "metadata": {
    "collapsed": false
   }
  },
  {
   "cell_type": "code",
   "execution_count": 8,
   "outputs": [
    {
     "data": {
      "text/plain": "<function napari_process_points_and_surfaces.fill_holes(surface: <function NewType.<locals>.new_type at 0x0000019FEFDEDA60>, size_limit: float = 100) -> <function NewType.<locals>.new_type at 0x0000019FEFDEDA60>>"
     },
     "execution_count": 8,
     "metadata": {},
     "output_type": "execute_result"
    }
   ],
   "source": [],
   "metadata": {
    "collapsed": false
   }
  },
  {
   "cell_type": "code",
   "execution_count": null,
   "outputs": [],
   "source": [],
   "metadata": {
    "collapsed": false
   }
  }
 ],
 "metadata": {
  "kernelspec": {
   "display_name": "Python 3",
   "language": "python",
   "name": "python3"
  },
  "language_info": {
   "codemirror_mode": {
    "name": "ipython",
    "version": 2
   },
   "file_extension": ".py",
   "mimetype": "text/x-python",
   "name": "python",
   "nbconvert_exporter": "python",
   "pygments_lexer": "ipython2",
   "version": "2.7.6"
  }
 },
 "nbformat": 4,
 "nbformat_minor": 0
}

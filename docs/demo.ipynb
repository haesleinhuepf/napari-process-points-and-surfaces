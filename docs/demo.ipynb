{
 "cells": [
  {
   "cell_type": "markdown",
   "id": "da6d5a51-f8ac-4865-893e-10186189faa1",
   "metadata": {},
   "source": [
    "# Processing surfaces and points in napari - from python\n",
    "[napari-process-points-and-surfaces]() (nppas) allows post-processing of surface and point cloud data. The available functionality uses [open3d](http://www.open3d.org/) in the background.\n",
    "For detailed explanation of the underlying algorithms, please refer to the [open3d documentation](http://www.open3d.org/docs/release/)."
   ]
  },
  {
   "cell_type": "code",
   "execution_count": 1,
   "id": "2c16dfdc-32ff-43e9-a9df-56f0deecaf10",
   "metadata": {},
   "outputs": [],
   "source": [
    "import napari\n",
    "from napari.utils import nbscreenshot\n",
    "import numpy as np\n",
    "\n",
    "from napari_process_points_and_surfaces import convex_hull,\\\n",
    "            filter_smooth_simple,\\\n",
    "            filter_smooth_laplacian,\\\n",
    "            filter_smooth_taubin,\\\n",
    "            simplify_vertex_clustering,\\\n",
    "            simplify_quadric_decimation,\\\n",
    "            subdivide_loop,\\\n",
    "            labels_to_centroids,\\\n",
    "            sample_points_uniformly,\\\n",
    "            sample_points_poisson_disk,\\\n",
    "            voxel_down_sample,\\\n",
    "            points_to_labels,\\\n",
    "            points_to_convex_hull_surface,\\\n",
    "            surface_from_point_cloud_alpha_shape,\\\n",
    "            surface_from_point_cloud_ball_pivoting,\\\n",
    "            label_to_surface,\\\n",
    "            largest_label_to_surface,\\\n",
    "            fill_holes"
   ]
  },
  {
   "cell_type": "code",
   "execution_count": null,
   "id": "44ed305d-8236-450f-b69b-a1b4330b7efc",
   "metadata": {},
   "outputs": [
    {
     "name": "stderr",
     "output_type": "stream",
     "text": [
      "INFO:numexpr.utils:NumExpr defaulting to 4 threads.\n",
      "INFO:xmlschema:Resource 'XMLSchema.xsd' is already loaded\n"
     ]
    }
   ],
   "source": [
    "viewer = napari.Viewer(ndisplay=3)\n",
    "\n",
    "def hide_all(viewer):\n",
    "    for layer in viewer.layers:\n",
    "        layer.visible = False\n",
    "        \n",
    "def show_all(viewer):\n",
    "    for layer in viewer.layers:\n",
    "        layer.visible = True"
   ]
  },
  {
   "cell_type": "code",
   "execution_count": null,
   "id": "b9048ddd-5930-46e4-bbf4-61f3ca985f41",
   "metadata": {},
   "outputs": [],
   "source": [
    "from skimage.data import cells3d\n",
    "nuclei = cells3d()[:,1,60:120,30:80]\n",
    "nuclei.shape"
   ]
  },
  {
   "cell_type": "code",
   "execution_count": null,
   "id": "97f7d75a-efb4-41b2-9021-9cef354231b2",
   "metadata": {},
   "outputs": [],
   "source": [
    "viewer.add_image(nuclei)\n",
    "\n",
    "nbscreenshot(viewer)"
   ]
  },
  {
   "cell_type": "code",
   "execution_count": null,
   "id": "bbc09181-568f-49de-b3e4-17f28e25b5b8",
   "metadata": {},
   "outputs": [],
   "source": [
    "from skimage.measure import label\n",
    "labels = label(nuclei>20000)\n",
    "\n",
    "viewer.add_labels(labels)\n",
    "\n",
    "nbscreenshot(viewer)"
   ]
  },
  {
   "cell_type": "code",
   "execution_count": null,
   "id": "d3540068-17da-42cd-883c-8993f145de71",
   "metadata": {},
   "outputs": [],
   "source": [
    "surface = largest_label_to_surface(labels)\n",
    "\n",
    "surface_layer = viewer.add_surface(surface, blending='translucent', shading='flat')\n",
    "surface = surface_layer.data\n",
    "\n",
    "nbscreenshot(viewer)"
   ]
  },
  {
   "cell_type": "markdown",
   "id": "063f2e04-0e9c-4b49-b7c6-d6ae60f992af",
   "metadata": {},
   "source": [
    "## Surface filtering"
   ]
  },
  {
   "cell_type": "code",
   "execution_count": null,
   "id": "232c0325-2881-4211-9706-a349ae57bbef",
   "metadata": {},
   "outputs": [],
   "source": [
    "hide_all(viewer)\n",
    "\n",
    "viewer.add_surface(convex_hull(surface))\n",
    "\n",
    "nbscreenshot(viewer)"
   ]
  },
  {
   "cell_type": "code",
   "execution_count": null,
   "id": "199b55aa-9865-4db0-be11-22133f9c9cb7",
   "metadata": {},
   "outputs": [],
   "source": [
    "hide_all(viewer)\n",
    "\n",
    "viewer.add_surface(filter_smooth_simple(surface, 10))\n",
    "\n",
    "nbscreenshot(viewer)"
   ]
  },
  {
   "cell_type": "code",
   "execution_count": null,
   "id": "29d59061-3ce7-4f0e-8028-8ecfb305d600",
   "metadata": {},
   "outputs": [],
   "source": [
    "hide_all(viewer)\n",
    "\n",
    "viewer.add_surface(filter_smooth_laplacian(surface, 1))\n",
    "\n",
    "nbscreenshot(viewer)"
   ]
  },
  {
   "cell_type": "code",
   "execution_count": null,
   "id": "5b2f9288-60ef-4e42-92ec-102f62b21ebb",
   "metadata": {},
   "outputs": [],
   "source": [
    "hide_all(viewer)\n",
    "\n",
    "viewer.add_surface(filter_smooth_taubin(surface, 100))\n",
    "\n",
    "nbscreenshot(viewer)"
   ]
  },
  {
   "cell_type": "markdown",
   "id": "37d621bb-e3e7-4494-9a69-03dd6fa611fc",
   "metadata": {},
   "source": [
    "## Surface simplification"
   ]
  },
  {
   "cell_type": "code",
   "execution_count": null,
   "id": "c2b9aa7c-db84-411e-9f87-53317f1f4d1a",
   "metadata": {},
   "outputs": [],
   "source": [
    "hide_all(viewer)\n",
    "\n",
    "viewer.add_surface(simplify_vertex_clustering(surface))\n",
    "\n",
    "nbscreenshot(viewer)"
   ]
  },
  {
   "cell_type": "code",
   "execution_count": null,
   "id": "3457957c-e37c-4ceb-b11f-69e25ce7da7b",
   "metadata": {},
   "outputs": [],
   "source": [
    "hide_all(viewer)\n",
    "\n",
    "viewer.add_surface(simplify_quadric_decimation(surface))\n",
    "\n",
    "nbscreenshot(viewer)"
   ]
  },
  {
   "cell_type": "code",
   "execution_count": null,
   "id": "1e308c2c-e066-4a44-afe0-32e7ee48ca48",
   "metadata": {},
   "outputs": [],
   "source": [
    "hide_all(viewer)\n",
    "\n",
    "viewer.add_surface(subdivide_loop(surface))\n",
    "\n",
    "nbscreenshot(viewer)"
   ]
  },
  {
   "cell_type": "markdown",
   "id": "53412e46-5743-4a00-b0e4-5d7d227d15db",
   "metadata": {},
   "source": [
    "## Point clouds"
   ]
  },
  {
   "cell_type": "code",
   "execution_count": null,
   "id": "7cb3f24f-1dba-4b59-ac34-553ee822697d",
   "metadata": {},
   "outputs": [],
   "source": [
    "hide_all(viewer)\n",
    "\n",
    "labels_to_centroids(labels, viewer=viewer)\n",
    "centroids = viewer.layers[-1].data\n",
    "\n",
    "nbscreenshot(viewer)"
   ]
  },
  {
   "cell_type": "code",
   "execution_count": null,
   "id": "79a81bc5-56f0-4a51-a06f-0f93294b1b1b",
   "metadata": {},
   "outputs": [],
   "source": [
    "hide_all(viewer)\n",
    "    \n",
    "point_cloud = sample_points_uniformly(surface, number_of_points=1000, viewer=viewer)\n",
    "\n",
    "nbscreenshot(viewer)"
   ]
  },
  {
   "cell_type": "code",
   "execution_count": null,
   "id": "c94963f6-788b-487b-9a95-4155a23d47ed",
   "metadata": {},
   "outputs": [],
   "source": [
    "hide_all(viewer)\n",
    "\n",
    "sample_points_poisson_disk(surface, number_of_points=1000, viewer=viewer)\n",
    "points_layer = viewer.layers[-1]\n",
    "\n",
    "nbscreenshot(viewer)"
   ]
  },
  {
   "cell_type": "code",
   "execution_count": null,
   "id": "4b239fbd-e6e9-42c3-8e29-0fd61f4f4044",
   "metadata": {},
   "outputs": [],
   "source": [
    "hide_all(viewer)\n",
    "    \n",
    "voxel_down_sample(points_layer.data, viewer=viewer)\n",
    "\n",
    "nbscreenshot(viewer)"
   ]
  },
  {
   "cell_type": "markdown",
   "id": "3b757a88-e439-4362-bb6e-bfe3e65141e5",
   "metadata": {},
   "source": [
    "## From points to labels"
   ]
  },
  {
   "cell_type": "code",
   "execution_count": null,
   "id": "23c3fcd4-45bb-4d9e-a7df-2134942a4100",
   "metadata": {},
   "outputs": [],
   "source": [
    "hide_all(viewer)\n",
    "\n",
    "viewer.add_labels(points_to_labels(points_layer.data, labels))\n",
    "\n",
    "nbscreenshot(viewer)"
   ]
  },
  {
   "cell_type": "markdown",
   "id": "d8316b12-0765-4f83-9765-e74903e741d5",
   "metadata": {},
   "source": [
    "## From points to surfaces"
   ]
  },
  {
   "cell_type": "code",
   "execution_count": null,
   "id": "7b7046e6-07b8-4c0c-96c4-f6a454724f09",
   "metadata": {},
   "outputs": [],
   "source": [
    "hide_all(viewer)\n",
    "\n",
    "surface_from_points = surface_from_point_cloud_alpha_shape(points_layer.data)\n",
    "viewer.add_surface(surface_from_points)\n",
    "\n",
    "nbscreenshot(viewer)"
   ]
  },
  {
   "cell_type": "code",
   "execution_count": null,
   "id": "caf8a7e6-bef0-492d-8ce4-5b651eb9b9af",
   "metadata": {},
   "outputs": [],
   "source": [
    "hide_all(viewer)\n",
    "\n",
    "surface_from_points = surface_from_point_cloud_ball_pivoting(points_layer.data)\n",
    "viewer.add_surface(surface_from_points)\n",
    "\n",
    "nbscreenshot(viewer)"
   ]
  },
  {
   "cell_type": "code",
   "execution_count": null,
   "id": "3fcb49aa-1517-4cf4-9019-7b63110eb23f",
   "metadata": {},
   "outputs": [],
   "source": [
    "hide_all(viewer)\n",
    "\n",
    "viewer.add_surface(points_to_convex_hull_surface(points_layer.data))\n",
    "\n",
    "nbscreenshot(viewer)"
   ]
  },
  {
   "cell_type": "code",
   "execution_count": null,
   "id": "944b1770-da92-4e73-ae80-14c4c62103e5",
   "metadata": {
    "tags": []
   },
   "outputs": [],
   "source": [
    "hide_all(viewer)\n",
    "\n",
    "surface = points_to_convex_hull_surface(points_layer.data)\n",
    "faces_del = np.delete(surface[1], np.random.randint(0, surface[1].shape[0], 10), axis=0)\n",
    "viewer.add_surface((surface[0], faces_del), name='Surface with hole')\n",
    "nbscreenshot(viewer)"
   ]
  },
  {
   "cell_type": "code",
   "execution_count": null,
   "id": "efe8b5fc-5d1a-4815-9e21-6d248ac86424",
   "metadata": {
    "tags": []
   },
   "outputs": [],
   "source": [
    "hide_all(viewer)\n",
    "viewer.add_surface(fill_holes((surface[0], faces_del), size_limit=1000), name='Filled hole')\n",
    "nbscreenshot(viewer)"
   ]
  },
  {
   "cell_type": "code",
   "execution_count": null,
   "id": "a0e506a8-589a-4712-aed1-1123b8d8aa56",
   "metadata": {},
   "outputs": [],
   "source": [
    "show_all(viewer)\n",
    "\n",
    "viewer.grid.enabled = True\n",
    "viewer.grid.stride = -1\n",
    "\n",
    "nbscreenshot(viewer)"
   ]
  }
 ],
 "metadata": {
  "kernelspec": {
   "display_name": "Python 3 (ipykernel)",
   "language": "python",
   "name": "python3"
  },
  "language_info": {
   "codemirror_mode": {
    "name": "ipython",
    "version": 3
   },
   "file_extension": ".py",
   "mimetype": "text/x-python",
   "name": "python",
   "nbconvert_exporter": "python",
   "pygments_lexer": "ipython3",
   "version": "3.9.7"
  }
 },
 "nbformat": 4,
 "nbformat_minor": 5
}

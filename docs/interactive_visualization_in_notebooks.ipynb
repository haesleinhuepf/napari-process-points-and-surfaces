{
 "cells": [
  {
   "cell_type": "markdown",
   "id": "ff11395c-5b0c-4df8-8b20-a5ab712d31ff",
   "metadata": {},
   "source": [
    "# Interactive visualization in notebooks\n"
   ]
  },
  {
   "cell_type": "code",
   "execution_count": 1,
   "id": "a43114eb-755f-485d-b602-4d0b6f5330da",
   "metadata": {},
   "outputs": [],
   "source": [
    "import napari_process_points_and_surfaces as nppas\n",
    "\n",
    "import vedo"
   ]
  },
  {
   "cell_type": "code",
   "execution_count": 2,
   "id": "8fb1ee00-5458-407b-addf-fc79297d9143",
   "metadata": {},
   "outputs": [],
   "source": [
    "surface = nppas._vedo_stanford_bunny()"
   ]
  },
  {
   "cell_type": "code",
   "execution_count": 3,
   "id": "04bea531-ee35-494a-93e4-dae7ebceb4c7",
   "metadata": {},
   "outputs": [],
   "source": [
    "mesh = nppas.to_vedo_mesh(surface)"
   ]
  },
  {
   "cell_type": "code",
   "execution_count": 4,
   "id": "a5ee8206-d039-4daa-88cd-96bd77a8938c",
   "metadata": {},
   "outputs": [
    {
     "data": {
      "application/vnd.jupyter.widget-view+json": {
       "model_id": "91f5c43788ef45cd9f8020ee35799425",
       "version_major": 2,
       "version_minor": 0
      },
      "text/plain": [
       "VBox(children=(interactive(children=(FloatSlider(value=2.718281828459045, description='zoom', step=None), Floa…"
      ]
     },
     "execution_count": 4,
     "metadata": {},
     "output_type": "execute_result"
    }
   ],
   "source": [
    "import numpy as np\n",
    "import stackview\n",
    "\n",
    "def do_show(image, mesh, zoom:float = np.exp(1), azimuth:float = 0, elevation:float = 0, roll:float = 0):\n",
    "    from vedo import Plotter\n",
    "    plt = Plotter(offscreen=True, size=[600,400], N=2)\n",
    "    plt.show(mesh, zoom=np.log(zoom), azimuth=azimuth, elevation=elevation, roll=roll)\n",
    "    return plt.screenshot(asarray=True)\n",
    "\n",
    "stackview.interact(do_show, np.ones((10, 10)), mesh, continuous_update=True)\n"
   ]
  },
  {
   "cell_type": "code",
   "execution_count": null,
   "id": "2c40840a-d892-4071-9286-752924170582",
   "metadata": {},
   "outputs": [],
   "source": []
  }
 ],
 "metadata": {
  "kernelspec": {
   "display_name": "Python 3 (ipykernel)",
   "language": "python",
   "name": "python3"
  },
  "language_info": {
   "codemirror_mode": {
    "name": "ipython",
    "version": 3
   },
   "file_extension": ".py",
   "mimetype": "text/x-python",
   "name": "python",
   "nbconvert_exporter": "python",
   "pygments_lexer": "ipython3",
   "version": "3.9.15"
  }
 },
 "nbformat": 4,
 "nbformat_minor": 5
}
